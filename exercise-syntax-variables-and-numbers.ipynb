{
 "cells": [
  {
   "cell_type": "markdown",
   "id": "fee2cf99",
   "metadata": {
    "papermill": {
     "duration": 0.031059,
     "end_time": "2022-04-07T22:54:09.766300",
     "exception": false,
     "start_time": "2022-04-07T22:54:09.735241",
     "status": "completed"
    },
    "tags": []
   },
   "source": [
    "**This notebook is an exercise in the [Python](https://www.kaggle.com/learn/python) course.  You can reference the tutorial at [this link](https://www.kaggle.com/colinmorris/hello-python).**\n",
    "\n",
    "---\n"
   ]
  },
  {
   "cell_type": "code",
   "execution_count": 1,
   "id": "0df21892",
   "metadata": {
    "execution": {
     "iopub.execute_input": "2022-04-07T22:54:09.834895Z",
     "iopub.status.busy": "2022-04-07T22:54:09.833108Z",
     "iopub.status.idle": "2022-04-07T22:54:09.849086Z",
     "shell.execute_reply": "2022-04-07T22:54:09.849626Z"
    },
    "papermill": {
     "duration": 0.051775,
     "end_time": "2022-04-07T22:54:09.850015",
     "exception": false,
     "start_time": "2022-04-07T22:54:09.798240",
     "status": "completed"
    },
    "tags": []
   },
   "outputs": [
    {
     "data": {
      "text/plain": [
       "0"
      ]
     },
     "execution_count": 1,
     "metadata": {},
     "output_type": "execute_result"
    }
   ],
   "source": [
    "0"
   ]
  },
  {
   "cell_type": "markdown",
   "id": "9969bcd2",
   "metadata": {
    "papermill": {
     "duration": 0.035948,
     "end_time": "2022-04-07T22:54:09.927916",
     "exception": false,
     "start_time": "2022-04-07T22:54:09.891968",
     "status": "completed"
    },
    "tags": []
   },
   "source": []
  },
  {
   "cell_type": "markdown",
   "id": "0df96072",
   "metadata": {
    "papermill": {
     "duration": 0.031723,
     "end_time": "2022-04-07T22:54:09.999825",
     "exception": false,
     "start_time": "2022-04-07T22:54:09.968102",
     "status": "completed"
    },
    "tags": []
   },
   "source": [
    "Welcome to your first set of Python coding problems.  If this is your first time using Kaggle Notebooks, welcome! \n",
    "\n",
    "Notebooks are composed of blocks (called \"cells\") of text and code. Each of these is editable, though you'll mainly be editing the code cells to answer some questions.\n",
    "\n",
    "To get started, try running the code cell below (by pressing the ► button, or clicking on the cell and pressing ctrl+enter on your keyboard)."
   ]
  },
  {
   "cell_type": "code",
   "execution_count": 2,
   "id": "73ca387f",
   "metadata": {
    "execution": {
     "iopub.execute_input": "2022-04-07T22:54:10.070365Z",
     "iopub.status.busy": "2022-04-07T22:54:10.069373Z",
     "iopub.status.idle": "2022-04-07T22:54:10.072816Z",
     "shell.execute_reply": "2022-04-07T22:54:10.073516Z",
     "shell.execute_reply.started": "2022-04-07T22:17:58.876992Z"
    },
    "papermill": {
     "duration": 0.043206,
     "end_time": "2022-04-07T22:54:10.073774",
     "exception": false,
     "start_time": "2022-04-07T22:54:10.030568",
     "status": "completed"
    },
    "tags": []
   },
   "outputs": [
    {
     "name": "stdout",
     "output_type": "stream",
     "text": [
      "You've successfully run some Python code\n",
      "Congratulations!\n"
     ]
    }
   ],
   "source": [
    "print(\"You've successfully run some Python code\")\n",
    "print(\"Congratulations!\")"
   ]
  },
  {
   "cell_type": "code",
   "execution_count": 3,
   "id": "2c918b80",
   "metadata": {
    "execution": {
     "iopub.execute_input": "2022-04-07T22:54:10.152794Z",
     "iopub.status.busy": "2022-04-07T22:54:10.151761Z",
     "iopub.status.idle": "2022-04-07T22:54:10.155288Z",
     "shell.execute_reply": "2022-04-07T22:54:10.155815Z",
     "shell.execute_reply.started": "2022-04-07T22:20:43.543184Z"
    },
    "papermill": {
     "duration": 0.04224,
     "end_time": "2022-04-07T22:54:10.155982",
     "exception": false,
     "start_time": "2022-04-07T22:54:10.113742",
     "status": "completed"
    },
    "tags": []
   },
   "outputs": [
    {
     "data": {
      "text/plain": [
       "600"
      ]
     },
     "execution_count": 3,
     "metadata": {},
     "output_type": "execute_result"
    }
   ],
   "source": [
    "120*5"
   ]
  },
  {
   "cell_type": "code",
   "execution_count": 4,
   "id": "5c876df2",
   "metadata": {
    "execution": {
     "iopub.execute_input": "2022-04-07T22:54:10.234708Z",
     "iopub.status.busy": "2022-04-07T22:54:10.234003Z",
     "iopub.status.idle": "2022-04-07T22:54:10.237878Z",
     "shell.execute_reply": "2022-04-07T22:54:10.238808Z",
     "shell.execute_reply.started": "2022-04-07T22:20:37.693417Z"
    },
    "papermill": {
     "duration": 0.043528,
     "end_time": "2022-04-07T22:54:10.239084",
     "exception": false,
     "start_time": "2022-04-07T22:54:10.195556",
     "status": "completed"
    },
    "tags": []
   },
   "outputs": [
    {
     "name": "stdout",
     "output_type": "stream",
     "text": [
      "2000\n"
     ]
    }
   ],
   "source": [
    "print(400*5)"
   ]
  },
  {
   "cell_type": "code",
   "execution_count": 5,
   "id": "9212f9e3",
   "metadata": {
    "execution": {
     "iopub.execute_input": "2022-04-07T22:54:10.308467Z",
     "iopub.status.busy": "2022-04-07T22:54:10.307535Z",
     "iopub.status.idle": "2022-04-07T22:54:10.313322Z",
     "shell.execute_reply": "2022-04-07T22:54:10.314247Z",
     "shell.execute_reply.started": "2022-04-07T22:19:27.559177Z"
    },
    "papermill": {
     "duration": 0.04148,
     "end_time": "2022-04-07T22:54:10.314542",
     "exception": false,
     "start_time": "2022-04-07T22:54:10.273062",
     "status": "completed"
    },
    "tags": []
   },
   "outputs": [
    {
     "name": "stdout",
     "output_type": "stream",
     "text": [
      "48\n",
      "10234\n"
     ]
    }
   ],
   "source": [
    "print(12*4)\n",
    "print(1000*10+234)"
   ]
  },
  {
   "cell_type": "markdown",
   "id": "b5cbfc59",
   "metadata": {
    "papermill": {
     "duration": 0.032052,
     "end_time": "2022-04-07T22:54:10.381015",
     "exception": false,
     "start_time": "2022-04-07T22:54:10.348963",
     "status": "completed"
    },
    "tags": []
   },
   "source": [
    "Try adding another line of code in the cell above and re-running it. \n",
    "\n",
    "Now let's get a little fancier:  Add a new code cell by clicking on an existing code cell, hitting the escape key, and then hitting the `a` or `b` key.  The `a` key will add a cell above the current cell, and `b` adds a cell below.\n",
    "\n",
    "Great! Now you know how to use Notebooks.\n",
    "\n",
    "Each hands-on exercise starts by setting up our feedback and code checking mechanism. Run the code cell below to do that. Then you'll be ready to move on to question 0."
   ]
  },
  {
   "cell_type": "code",
   "execution_count": 6,
   "id": "afff0846",
   "metadata": {
    "_kg_hide-input": true,
    "_kg_hide-output": true,
    "execution": {
     "iopub.execute_input": "2022-04-07T22:54:10.450073Z",
     "iopub.status.busy": "2022-04-07T22:54:10.449093Z",
     "iopub.status.idle": "2022-04-07T22:54:10.488112Z",
     "shell.execute_reply": "2022-04-07T22:54:10.489144Z",
     "shell.execute_reply.started": "2022-04-07T22:40:40.268707Z"
    },
    "papermill": {
     "duration": 0.075701,
     "end_time": "2022-04-07T22:54:10.489377",
     "exception": false,
     "start_time": "2022-04-07T22:54:10.413676",
     "status": "completed"
    },
    "tags": []
   },
   "outputs": [
    {
     "name": "stdout",
     "output_type": "stream",
     "text": [
      "Setup complete! You're ready to start question 0.\n"
     ]
    }
   ],
   "source": [
    "from learntools.core import binder; binder.bind(globals())\n",
    "from learntools.python.ex1 import *\n",
    "print(\"Setup complete! You're ready to start question 0.\")"
   ]
  },
  {
   "cell_type": "markdown",
   "id": "40572169",
   "metadata": {
    "papermill": {
     "duration": 0.032625,
     "end_time": "2022-04-07T22:54:10.555581",
     "exception": false,
     "start_time": "2022-04-07T22:54:10.522956",
     "status": "completed"
    },
    "tags": []
   },
   "source": [
    "# 0.\n",
    "\n",
    "*This is a silly question intended as an introduction to the format we use for hands-on exercises throughout all Kaggle courses.*\n",
    "\n",
    "**What is your favorite color? **\n",
    "\n",
    "To complete this question, create a variable called `color` in the cell below with an appropriate value. The function call `q0.check()` (which we've already provided in the cell below) will check your answer."
   ]
  },
  {
   "cell_type": "code",
   "execution_count": 7,
   "id": "639d3dca",
   "metadata": {
    "execution": {
     "iopub.execute_input": "2022-04-07T22:54:10.625919Z",
     "iopub.status.busy": "2022-04-07T22:54:10.624929Z",
     "iopub.status.idle": "2022-04-07T22:54:10.630556Z",
     "shell.execute_reply": "2022-04-07T22:54:10.632571Z",
     "shell.execute_reply.started": "2022-04-07T22:40:44.707451Z"
    },
    "papermill": {
     "duration": 0.045012,
     "end_time": "2022-04-07T22:54:10.632895",
     "exception": false,
     "start_time": "2022-04-07T22:54:10.587883",
     "status": "completed"
    },
    "tags": []
   },
   "outputs": [
    {
     "data": {
      "application/javascript": [
       "parent.postMessage({\"jupyterEvent\": \"custom.exercise_interaction\", \"data\": {\"outcomeType\": 1, \"valueTowardsCompletion\": 0.25, \"interactionType\": 1, \"questionType\": 2, \"questionId\": \"0_ExerciseFormatTutorial\", \"learnToolsVersion\": \"0.3.4\", \"failureMessage\": \"\", \"exceptionClass\": \"\", \"trace\": \"\"}}, \"*\")"
      ],
      "text/plain": [
       "<IPython.core.display.Javascript object>"
      ]
     },
     "metadata": {},
     "output_type": "display_data"
    },
    {
     "data": {
      "text/markdown": [
       "<span style=\"color:#33cc33\">Correct:</span> What?! You got it right without needing a hint or anything? Drats. Well hey, you should still continue to the next step to get some practice asking for a hint and checking solutions. (Even though you obviously don't need any help here.)"
      ],
      "text/plain": [
       "Correct: What?! You got it right without needing a hint or anything? Drats. Well hey, you should still continue to the next step to get some practice asking for a hint and checking solutions. (Even though you obviously don't need any help here.)"
      ]
     },
     "metadata": {},
     "output_type": "display_data"
    }
   ],
   "source": [
    "# create a variable called color with an appropriate value on the line below\n",
    "# (Remember, strings in Python must be enclosed in 'single' or \"double\" quotes)\n",
    "color='blue'\n",
    "\n",
    "# Check your answer\n",
    "q0.check()"
   ]
  },
  {
   "cell_type": "markdown",
   "id": "61d62475",
   "metadata": {
    "papermill": {
     "duration": 0.046266,
     "end_time": "2022-04-07T22:54:10.727016",
     "exception": false,
     "start_time": "2022-04-07T22:54:10.680750",
     "status": "completed"
    },
    "tags": []
   },
   "source": [
    "Didn't get the right answer? How do you not even know your own favorite color?!\n",
    "\n",
    "Delete the `#` in the line below to make one of the lines run. You can choose between getting a hint or the full answer by choosing which line to remove the `#` from. \n",
    "\n",
    "Removing the `#` is called uncommenting, because it changes that line from a \"comment\" which Python doesn't run to code, which Python does run."
   ]
  },
  {
   "cell_type": "code",
   "execution_count": 8,
   "id": "f2c0f090",
   "metadata": {
    "execution": {
     "iopub.execute_input": "2022-04-07T22:54:10.809492Z",
     "iopub.status.busy": "2022-04-07T22:54:10.808534Z",
     "iopub.status.idle": "2022-04-07T22:54:10.816879Z",
     "shell.execute_reply": "2022-04-07T22:54:10.817450Z",
     "shell.execute_reply.started": "2022-04-07T22:40:49.210432Z"
    },
    "papermill": {
     "duration": 0.050881,
     "end_time": "2022-04-07T22:54:10.817605",
     "exception": false,
     "start_time": "2022-04-07T22:54:10.766724",
     "status": "completed"
    },
    "tags": []
   },
   "outputs": [
    {
     "data": {
      "application/javascript": [
       "parent.postMessage({\"jupyterEvent\": \"custom.exercise_interaction\", \"data\": {\"interactionType\": 2, \"questionType\": 2, \"questionId\": \"0_ExerciseFormatTutorial\", \"learnToolsVersion\": \"0.3.4\", \"valueTowardsCompletion\": 0.0, \"failureMessage\": \"\", \"exceptionClass\": \"\", \"trace\": \"\", \"outcomeType\": 4}}, \"*\")"
      ],
      "text/plain": [
       "<IPython.core.display.Javascript object>"
      ]
     },
     "metadata": {},
     "output_type": "display_data"
    },
    {
     "data": {
      "text/markdown": [
       "<span style=\"color:#3366cc\">Hint:</span> Your favorite color rhymes with *glue*."
      ],
      "text/plain": [
       "Hint: Your favorite color rhymes with *glue*."
      ]
     },
     "metadata": {},
     "output_type": "display_data"
    },
    {
     "data": {
      "application/javascript": [
       "parent.postMessage({\"jupyterEvent\": \"custom.exercise_interaction\", \"data\": {\"interactionType\": 3, \"questionType\": 2, \"questionId\": \"0_ExerciseFormatTutorial\", \"learnToolsVersion\": \"0.3.4\", \"valueTowardsCompletion\": 0.0, \"failureMessage\": \"\", \"exceptionClass\": \"\", \"trace\": \"\", \"outcomeType\": 4}}, \"*\")"
      ],
      "text/plain": [
       "<IPython.core.display.Javascript object>"
      ]
     },
     "metadata": {},
     "output_type": "display_data"
    },
    {
     "data": {
      "text/markdown": [
       "<span style=\"color:#33cc99\">Solution:</span> \n",
       "```python\n",
       "color = \"blue\"\n",
       "```"
      ],
      "text/plain": [
       "Solution: \n",
       "```python\n",
       "color = \"blue\"\n",
       "```"
      ]
     },
     "metadata": {},
     "output_type": "display_data"
    }
   ],
   "source": [
    "q0.hint()\n",
    "q0.solution()"
   ]
  },
  {
   "cell_type": "markdown",
   "id": "f35f8c64",
   "metadata": {
    "papermill": {
     "duration": 0.035123,
     "end_time": "2022-04-07T22:54:10.888169",
     "exception": false,
     "start_time": "2022-04-07T22:54:10.853046",
     "status": "completed"
    },
    "tags": []
   },
   "source": [
    "The upcoming questions work the same way. The only thing that will change are the question numbers. For the next question, you'll call `q1.check()`, `q1.hint()`, `q1.solution()`, for question 2, you'll call `q2.check()`, and so on."
   ]
  },
  {
   "cell_type": "markdown",
   "id": "5b65c72f",
   "metadata": {
    "papermill": {
     "duration": 0.035653,
     "end_time": "2022-04-07T22:54:10.959772",
     "exception": false,
     "start_time": "2022-04-07T22:54:10.924119",
     "status": "completed"
    },
    "tags": []
   },
   "source": [
    "<hr/>\n",
    "\n",
    "# 1.\n",
    "\n",
    "Complete the code below. In case it's helpful, here is the table of available arithmetic operations:\n",
    "\n",
    "\n",
    "\n",
    "| Operator     | Name           | Description                                            |\n",
    "|--------------|----------------|--------------------------------------------------------|\n",
    "| ``a + b``    | Addition       | Sum of ``a`` and ``b``                                 |\n",
    "| ``a - b``    | Subtraction    | Difference of ``a`` and ``b``                          |\n",
    "| ``a * b``    | Multiplication | Product of ``a`` and ``b``                             |\n",
    "| ``a / b``    | True division  | Quotient of ``a`` and ``b``                            |\n",
    "| ``a // b``   | Floor division | Quotient of ``a`` and ``b``, removing fractional parts |\n",
    "| ``a % b``    | Modulus        | Integer remainder after division of ``a`` by ``b``     |\n",
    "| ``a ** b``   | Exponentiation | ``a`` raised to the power of ``b``                     |\n",
    "| ``-a``       | Negation       | The negative of ``a``                                  |\n",
    "\n",
    "<span style=\"display:none\"></span>\n"
   ]
  },
  {
   "cell_type": "code",
   "execution_count": 9,
   "id": "92acde38",
   "metadata": {
    "execution": {
     "iopub.execute_input": "2022-04-07T22:54:11.036117Z",
     "iopub.status.busy": "2022-04-07T22:54:11.035434Z",
     "iopub.status.idle": "2022-04-07T22:54:11.041938Z",
     "shell.execute_reply": "2022-04-07T22:54:11.042495Z",
     "shell.execute_reply.started": "2022-04-07T22:40:54.590870Z"
    },
    "papermill": {
     "duration": 0.047046,
     "end_time": "2022-04-07T22:54:11.042649",
     "exception": false,
     "start_time": "2022-04-07T22:54:10.995603",
     "status": "completed"
    },
    "tags": []
   },
   "outputs": [
    {
     "data": {
      "application/javascript": [
       "parent.postMessage({\"jupyterEvent\": \"custom.exercise_interaction\", \"data\": {\"outcomeType\": 1, \"valueTowardsCompletion\": 0.25, \"interactionType\": 1, \"questionType\": 1, \"questionId\": \"1_CircleArea\", \"learnToolsVersion\": \"0.3.4\", \"failureMessage\": \"\", \"exceptionClass\": \"\", \"trace\": \"\"}}, \"*\")"
      ],
      "text/plain": [
       "<IPython.core.display.Javascript object>"
      ]
     },
     "metadata": {},
     "output_type": "display_data"
    },
    {
     "data": {
      "text/markdown": [
       "<span style=\"color:#33cc33\">Correct</span>"
      ],
      "text/plain": [
       "Correct"
      ]
     },
     "metadata": {},
     "output_type": "display_data"
    }
   ],
   "source": [
    "pi = 3.14159 # approximate\n",
    "diameter = 3\n",
    "\n",
    "# Create a variable called 'radius' equal to half the diameter\n",
    "radius=diameter/2\n",
    "# Create a variable called 'area', using the formula for the area of a circle: pi times the radius squared\n",
    "area=pi*radius**2\n",
    "\n",
    "# Check your answer\n",
    "q1.check()"
   ]
  },
  {
   "cell_type": "code",
   "execution_count": 10,
   "id": "7fb2a3ee",
   "metadata": {
    "execution": {
     "iopub.execute_input": "2022-04-07T22:54:11.122899Z",
     "iopub.status.busy": "2022-04-07T22:54:11.122282Z",
     "iopub.status.idle": "2022-04-07T22:54:11.130173Z",
     "shell.execute_reply": "2022-04-07T22:54:11.130741Z",
     "shell.execute_reply.started": "2022-04-07T22:40:58.632360Z"
    },
    "papermill": {
     "duration": 0.049497,
     "end_time": "2022-04-07T22:54:11.130893",
     "exception": false,
     "start_time": "2022-04-07T22:54:11.081396",
     "status": "completed"
    },
    "tags": []
   },
   "outputs": [
    {
     "data": {
      "application/javascript": [
       "parent.postMessage({\"jupyterEvent\": \"custom.exercise_interaction\", \"data\": {\"interactionType\": 2, \"questionType\": 1, \"questionId\": \"1_CircleArea\", \"learnToolsVersion\": \"0.3.4\", \"valueTowardsCompletion\": 0.0, \"failureMessage\": \"\", \"exceptionClass\": \"\", \"trace\": \"\", \"outcomeType\": 4}}, \"*\")"
      ],
      "text/plain": [
       "<IPython.core.display.Javascript object>"
      ]
     },
     "metadata": {},
     "output_type": "display_data"
    },
    {
     "data": {
      "text/markdown": [
       "<span style=\"color:#3366cc\">Hint:</span> The syntax to raise a to the b'th power is `a ** b`"
      ],
      "text/plain": [
       "Hint: The syntax to raise a to the b'th power is `a ** b`"
      ]
     },
     "metadata": {},
     "output_type": "display_data"
    },
    {
     "data": {
      "application/javascript": [
       "parent.postMessage({\"jupyterEvent\": \"custom.exercise_interaction\", \"data\": {\"interactionType\": 3, \"questionType\": 1, \"questionId\": \"1_CircleArea\", \"learnToolsVersion\": \"0.3.4\", \"valueTowardsCompletion\": 0.0, \"failureMessage\": \"\", \"exceptionClass\": \"\", \"trace\": \"\", \"outcomeType\": 4}}, \"*\")"
      ],
      "text/plain": [
       "<IPython.core.display.Javascript object>"
      ]
     },
     "metadata": {},
     "output_type": "display_data"
    },
    {
     "data": {
      "text/markdown": [
       "<span style=\"color:#33cc99\">Solution:</span> \n",
       "```python\n",
       "radius = diameter / 2\n",
       "area = pi * radius ** 2\n",
       "```"
      ],
      "text/plain": [
       "Solution: \n",
       "```python\n",
       "radius = diameter / 2\n",
       "area = pi * radius ** 2\n",
       "```"
      ]
     },
     "metadata": {},
     "output_type": "display_data"
    }
   ],
   "source": [
    "# Uncomment and run the lines below if you need help.\n",
    "q1.hint()\n",
    "q1.solution()"
   ]
  },
  {
   "cell_type": "markdown",
   "id": "5261332e",
   "metadata": {
    "papermill": {
     "duration": 0.039576,
     "end_time": "2022-04-07T22:54:11.210092",
     "exception": false,
     "start_time": "2022-04-07T22:54:11.170516",
     "status": "completed"
    },
    "tags": []
   },
   "source": [
    "<hr/>\n",
    "\n",
    "# 2.\n",
    "\n",
    "Add code to the following cell to swap variables `a` and `b` (so that `a` refers to the object previously referred to by `b` and vice versa)."
   ]
  },
  {
   "cell_type": "code",
   "execution_count": 11,
   "id": "227b4d90",
   "metadata": {
    "execution": {
     "iopub.execute_input": "2022-04-07T22:54:11.297402Z",
     "iopub.status.busy": "2022-04-07T22:54:11.296730Z",
     "iopub.status.idle": "2022-04-07T22:54:11.303913Z",
     "shell.execute_reply": "2022-04-07T22:54:11.303256Z",
     "shell.execute_reply.started": "2022-04-07T22:41:02.871649Z"
    },
    "papermill": {
     "duration": 0.053853,
     "end_time": "2022-04-07T22:54:11.304069",
     "exception": false,
     "start_time": "2022-04-07T22:54:11.250216",
     "status": "completed"
    },
    "tags": []
   },
   "outputs": [
    {
     "name": "stdout",
     "output_type": "stream",
     "text": [
      "[3, 2, 1]\n",
      "[1, 2, 3]\n"
     ]
    },
    {
     "data": {
      "application/javascript": [
       "parent.postMessage({\"jupyterEvent\": \"custom.exercise_interaction\", \"data\": {\"outcomeType\": 1, \"valueTowardsCompletion\": 0.25, \"interactionType\": 1, \"questionType\": 2, \"questionId\": \"2_VariableSwap\", \"learnToolsVersion\": \"0.3.4\", \"failureMessage\": \"\", \"exceptionClass\": \"\", \"trace\": \"\"}}, \"*\")"
      ],
      "text/plain": [
       "<IPython.core.display.Javascript object>"
      ]
     },
     "metadata": {},
     "output_type": "display_data"
    },
    {
     "data": {
      "text/markdown": [
       "<span style=\"color:#33cc33\">Correct:</span> \n",
       "\n",
       "The most straightforward solution is to use a third variable to temporarily store one of the old values. e.g.:\n",
       "\n",
       "    tmp = a\n",
       "    a = b\n",
       "    b = tmp\n",
       "\n",
       "If you've read lots of Python code, you might have seen the following trick to swap two variables in one line:\n",
       "\n",
       "    a, b = b, a\n",
       "\n",
       "We'll demystify this bit of Python magic later when we talk about *tuples*."
      ],
      "text/plain": [
       "Correct: \n",
       "\n",
       "The most straightforward solution is to use a third variable to temporarily store one of the old values. e.g.:\n",
       "\n",
       "    tmp = a\n",
       "    a = b\n",
       "    b = tmp\n",
       "\n",
       "If you've read lots of Python code, you might have seen the following trick to swap two variables in one line:\n",
       "\n",
       "    a, b = b, a\n",
       "\n",
       "We'll demystify this bit of Python magic later when we talk about *tuples*."
      ]
     },
     "metadata": {},
     "output_type": "display_data"
    }
   ],
   "source": [
    "########### Setup code - don't touch this part ######################\n",
    "# If you're curious, these are examples of lists. We'll talk about \n",
    "# them in depth a few lessons from now. For now, just know that they're\n",
    "# yet another type of Python object, like int or float.\n",
    "q2\n",
    "a = [1, 2, 3]\n",
    "b = [3, 2, 1]\n",
    "q2.store_original_ids()\n",
    "######################################################################\n",
    "\n",
    "# Your code goes here. Swap the values to which a and b refer.\n",
    "# If you get stuck, you can always uncomment one or both of the lines in\n",
    "# the next cell for a hint, or to peek at the solution.\n",
    "temp = a\n",
    "a = b\n",
    "b = temp\n",
    "print(a)\n",
    "print(b)\n",
    "######################################################################\n",
    "# Check your answer\n",
    "q2.check()\n",
    "q2.store_original_ids()"
   ]
  },
  {
   "cell_type": "code",
   "execution_count": 12,
   "id": "103598e9",
   "metadata": {
    "execution": {
     "iopub.execute_input": "2022-04-07T22:54:11.394402Z",
     "iopub.status.busy": "2022-04-07T22:54:11.393764Z",
     "iopub.status.idle": "2022-04-07T22:54:11.399272Z",
     "shell.execute_reply": "2022-04-07T22:54:11.399800Z",
     "shell.execute_reply.started": "2022-04-07T22:43:45.115122Z"
    },
    "papermill": {
     "duration": 0.053658,
     "end_time": "2022-04-07T22:54:11.399964",
     "exception": false,
     "start_time": "2022-04-07T22:54:11.346306",
     "status": "completed"
    },
    "tags": []
   },
   "outputs": [
    {
     "data": {
      "application/javascript": [
       "parent.postMessage({\"jupyterEvent\": \"custom.exercise_interaction\", \"data\": {\"interactionType\": 2, \"questionType\": 2, \"questionId\": \"2_VariableSwap\", \"learnToolsVersion\": \"0.3.4\", \"valueTowardsCompletion\": 0.0, \"failureMessage\": \"\", \"exceptionClass\": \"\", \"trace\": \"\", \"outcomeType\": 4}}, \"*\")"
      ],
      "text/plain": [
       "<IPython.core.display.Javascript object>"
      ]
     },
     "metadata": {},
     "output_type": "display_data"
    },
    {
     "data": {
      "text/markdown": [
       "<span style=\"color:#3366cc\">Hint:</span> Try using a third variable."
      ],
      "text/plain": [
       "Hint: Try using a third variable."
      ]
     },
     "metadata": {},
     "output_type": "display_data"
    }
   ],
   "source": [
    "q2.hint()"
   ]
  },
  {
   "cell_type": "code",
   "execution_count": 13,
   "id": "6b142ed3",
   "metadata": {
    "execution": {
     "iopub.execute_input": "2022-04-07T22:54:11.490008Z",
     "iopub.status.busy": "2022-04-07T22:54:11.489343Z",
     "iopub.status.idle": "2022-04-07T22:54:11.495070Z",
     "shell.execute_reply": "2022-04-07T22:54:11.495624Z",
     "shell.execute_reply.started": "2022-04-07T22:44:16.106898Z"
    },
    "papermill": {
     "duration": 0.052488,
     "end_time": "2022-04-07T22:54:11.495798",
     "exception": false,
     "start_time": "2022-04-07T22:54:11.443310",
     "status": "completed"
    },
    "tags": []
   },
   "outputs": [
    {
     "data": {
      "application/javascript": [
       "parent.postMessage({\"jupyterEvent\": \"custom.exercise_interaction\", \"data\": {\"interactionType\": 3, \"questionType\": 2, \"questionId\": \"2_VariableSwap\", \"learnToolsVersion\": \"0.3.4\", \"valueTowardsCompletion\": 0.0, \"failureMessage\": \"\", \"exceptionClass\": \"\", \"trace\": \"\", \"outcomeType\": 4}}, \"*\")"
      ],
      "text/plain": [
       "<IPython.core.display.Javascript object>"
      ]
     },
     "metadata": {},
     "output_type": "display_data"
    },
    {
     "data": {
      "text/markdown": [
       "<span style=\"color:#33cc99\">Solution:</span> The most straightforward solution is to use a third variable to temporarily store one of the old values. e.g.:\n",
       "\n",
       "    tmp = a\n",
       "    a = b\n",
       "    b = tmp\n",
       "\n",
       "If you've read lots of Python code, you might have seen the following trick to swap two variables in one line:\n",
       "\n",
       "    a, b = b, a\n",
       "\n",
       "We'll demystify this bit of Python magic later when we talk about *tuples*."
      ],
      "text/plain": [
       "Solution: The most straightforward solution is to use a third variable to temporarily store one of the old values. e.g.:\n",
       "\n",
       "    tmp = a\n",
       "    a = b\n",
       "    b = tmp\n",
       "\n",
       "If you've read lots of Python code, you might have seen the following trick to swap two variables in one line:\n",
       "\n",
       "    a, b = b, a\n",
       "\n",
       "We'll demystify this bit of Python magic later when we talk about *tuples*."
      ]
     },
     "metadata": {},
     "output_type": "display_data"
    }
   ],
   "source": [
    "q2.solution()"
   ]
  },
  {
   "cell_type": "code",
   "execution_count": 14,
   "id": "a69f3112",
   "metadata": {
    "execution": {
     "iopub.execute_input": "2022-04-07T22:54:11.586368Z",
     "iopub.status.busy": "2022-04-07T22:54:11.585796Z",
     "iopub.status.idle": "2022-04-07T22:54:11.591115Z",
     "shell.execute_reply": "2022-04-07T22:54:11.591667Z",
     "shell.execute_reply.started": "2022-04-07T22:44:26.527535Z"
    },
    "papermill": {
     "duration": 0.052233,
     "end_time": "2022-04-07T22:54:11.591847",
     "exception": false,
     "start_time": "2022-04-07T22:54:11.539614",
     "status": "completed"
    },
    "tags": []
   },
   "outputs": [
    {
     "data": {
      "application/javascript": [
       "parent.postMessage({\"jupyterEvent\": \"custom.exercise_interaction\", \"data\": {\"interactionType\": 3, \"questionType\": 2, \"questionId\": \"2_VariableSwap\", \"learnToolsVersion\": \"0.3.4\", \"valueTowardsCompletion\": 0.0, \"failureMessage\": \"\", \"exceptionClass\": \"\", \"trace\": \"\", \"outcomeType\": 4}}, \"*\")"
      ],
      "text/plain": [
       "<IPython.core.display.Javascript object>"
      ]
     },
     "metadata": {},
     "output_type": "display_data"
    },
    {
     "data": {
      "text/markdown": [
       "<span style=\"color:#33cc99\">Solution:</span> The most straightforward solution is to use a third variable to temporarily store one of the old values. e.g.:\n",
       "\n",
       "    tmp = a\n",
       "    a = b\n",
       "    b = tmp\n",
       "\n",
       "If you've read lots of Python code, you might have seen the following trick to swap two variables in one line:\n",
       "\n",
       "    a, b = b, a\n",
       "\n",
       "We'll demystify this bit of Python magic later when we talk about *tuples*."
      ],
      "text/plain": [
       "Solution: The most straightforward solution is to use a third variable to temporarily store one of the old values. e.g.:\n",
       "\n",
       "    tmp = a\n",
       "    a = b\n",
       "    b = tmp\n",
       "\n",
       "If you've read lots of Python code, you might have seen the following trick to swap two variables in one line:\n",
       "\n",
       "    a, b = b, a\n",
       "\n",
       "We'll demystify this bit of Python magic later when we talk about *tuples*."
      ]
     },
     "metadata": {},
     "output_type": "display_data"
    }
   ],
   "source": [
    "q2.solution()"
   ]
  },
  {
   "cell_type": "markdown",
   "id": "da9e3ea1",
   "metadata": {
    "papermill": {
     "duration": 0.04491,
     "end_time": "2022-04-07T22:54:11.681874",
     "exception": false,
     "start_time": "2022-04-07T22:54:11.636964",
     "status": "completed"
    },
    "tags": []
   },
   "source": [
    "<hr/>\n",
    "\n",
    "# 3a.\n",
    "\n",
    "Add parentheses to the following expression so that it evaluates to 1."
   ]
  },
  {
   "cell_type": "code",
   "execution_count": 15,
   "id": "6cb29a9a",
   "metadata": {
    "execution": {
     "iopub.execute_input": "2022-04-07T22:54:11.777014Z",
     "iopub.status.busy": "2022-04-07T22:54:11.776364Z",
     "iopub.status.idle": "2022-04-07T22:54:11.779177Z",
     "shell.execute_reply": "2022-04-07T22:54:11.779635Z",
     "shell.execute_reply.started": "2022-04-07T22:45:01.025197Z"
    },
    "papermill": {
     "duration": 0.052893,
     "end_time": "2022-04-07T22:54:11.779808",
     "exception": false,
     "start_time": "2022-04-07T22:54:11.726915",
     "status": "completed"
    },
    "tags": []
   },
   "outputs": [
    {
     "data": {
      "text/plain": [
       "1"
      ]
     },
     "execution_count": 15,
     "metadata": {},
     "output_type": "execute_result"
    }
   ],
   "source": [
    "(5 - 3 )// 2"
   ]
  },
  {
   "cell_type": "code",
   "execution_count": 16,
   "id": "a5cd6049",
   "metadata": {
    "execution": {
     "iopub.execute_input": "2022-04-07T22:54:11.875024Z",
     "iopub.status.busy": "2022-04-07T22:54:11.874398Z",
     "iopub.status.idle": "2022-04-07T22:54:11.880650Z",
     "shell.execute_reply": "2022-04-07T22:54:11.881181Z",
     "shell.execute_reply.started": "2022-04-07T22:45:11.584169Z"
    },
    "papermill": {
     "duration": 0.054968,
     "end_time": "2022-04-07T22:54:11.881346",
     "exception": false,
     "start_time": "2022-04-07T22:54:11.826378",
     "status": "completed"
    },
    "tags": []
   },
   "outputs": [
    {
     "data": {
      "application/javascript": [
       "parent.postMessage({\"jupyterEvent\": \"custom.exercise_interaction\", \"data\": {\"interactionType\": 2, \"questionType\": 4, \"questionId\": \"3.1_ArithmeticParensEasy\", \"learnToolsVersion\": \"0.3.4\", \"valueTowardsCompletion\": 0.0, \"failureMessage\": \"\", \"exceptionClass\": \"\", \"trace\": \"\", \"outcomeType\": 4}}, \"*\")"
      ],
      "text/plain": [
       "<IPython.core.display.Javascript object>"
      ]
     },
     "metadata": {},
     "output_type": "display_data"
    },
    {
     "data": {
      "text/markdown": [
       "<span style=\"color:#3366cc\">Hint:</span> Following its default \"BEDMAS\"-like rules for order of operations, Python will first divide 3 by 2, then subtract the result from 5. You need to add parentheses to force it to perform the subtraction first."
      ],
      "text/plain": [
       "Hint: Following its default \"BEDMAS\"-like rules for order of operations, Python will first divide 3 by 2, then subtract the result from 5. You need to add parentheses to force it to perform the subtraction first."
      ]
     },
     "metadata": {},
     "output_type": "display_data"
    }
   ],
   "source": [
    "q3.a.hint()"
   ]
  },
  {
   "cell_type": "code",
   "execution_count": 17,
   "id": "fd90e0d9",
   "metadata": {
    "execution": {
     "iopub.execute_input": "2022-04-07T22:54:11.980940Z",
     "iopub.status.busy": "2022-04-07T22:54:11.980273Z",
     "iopub.status.idle": "2022-04-07T22:54:11.984101Z",
     "shell.execute_reply": "2022-04-07T22:54:11.984781Z",
     "shell.execute_reply.started": "2022-04-07T22:45:44.228208Z"
    },
    "papermill": {
     "duration": 0.0569,
     "end_time": "2022-04-07T22:54:11.984955",
     "exception": false,
     "start_time": "2022-04-07T22:54:11.928055",
     "status": "completed"
    },
    "tags": []
   },
   "outputs": [
    {
     "data": {
      "application/javascript": [
       "parent.postMessage({\"jupyterEvent\": \"custom.exercise_interaction\", \"data\": {\"interactionType\": 3, \"questionType\": 4, \"questionId\": \"3.1_ArithmeticParensEasy\", \"learnToolsVersion\": \"0.3.4\", \"valueTowardsCompletion\": 0.0, \"failureMessage\": \"\", \"exceptionClass\": \"\", \"trace\": \"\", \"outcomeType\": 4}}, \"*\")"
      ],
      "text/plain": [
       "<IPython.core.display.Javascript object>"
      ]
     },
     "metadata": {},
     "output_type": "display_data"
    },
    {
     "data": {
      "text/markdown": [
       "<span style=\"color:#33cc99\">Solution:</span> \n",
       "```python\n",
       "(5 - 3) // 2\n",
       "```"
      ],
      "text/plain": [
       "Solution: \n",
       "```python\n",
       "(5 - 3) // 2\n",
       "```"
      ]
     },
     "metadata": {},
     "output_type": "display_data"
    }
   ],
   "source": [
    "# Check your answer (Run this code cell to receive credit!)\n",
    "q3.a.solution()"
   ]
  },
  {
   "cell_type": "markdown",
   "id": "3020693d",
   "metadata": {
    "papermill": {
     "duration": 0.047772,
     "end_time": "2022-04-07T22:54:12.081789",
     "exception": false,
     "start_time": "2022-04-07T22:54:12.034017",
     "status": "completed"
    },
    "tags": []
   },
   "source": [
    "# 3b.  <span title=\"A bit spicy\" style=\"color: darkgreen \">🌶️</span>\n",
    "\n",
    "<small>Questions, like this one, marked a spicy pepper are a bit harder.</small>\n",
    "\n",
    "Add parentheses to the following expression so that it evaluates to 0."
   ]
  },
  {
   "cell_type": "code",
   "execution_count": 18,
   "id": "ca4b3f4c",
   "metadata": {
    "execution": {
     "iopub.execute_input": "2022-04-07T22:54:12.183473Z",
     "iopub.status.busy": "2022-04-07T22:54:12.182863Z",
     "iopub.status.idle": "2022-04-07T22:54:12.186206Z",
     "shell.execute_reply": "2022-04-07T22:54:12.185595Z",
     "shell.execute_reply.started": "2022-04-07T22:47:29.337570Z"
    },
    "papermill": {
     "duration": 0.056118,
     "end_time": "2022-04-07T22:54:12.186337",
     "exception": false,
     "start_time": "2022-04-07T22:54:12.130219",
     "status": "completed"
    },
    "tags": []
   },
   "outputs": [
    {
     "data": {
      "text/plain": [
       "0"
      ]
     },
     "execution_count": 18,
     "metadata": {},
     "output_type": "execute_result"
    }
   ],
   "source": [
    "8 - (3 * 2) - (1 + 1)"
   ]
  },
  {
   "cell_type": "code",
   "execution_count": 19,
   "id": "3da2dae2",
   "metadata": {
    "execution": {
     "iopub.execute_input": "2022-04-07T22:54:12.287917Z",
     "iopub.status.busy": "2022-04-07T22:54:12.287216Z",
     "iopub.status.idle": "2022-04-07T22:54:12.291092Z",
     "shell.execute_reply": "2022-04-07T22:54:12.291605Z",
     "shell.execute_reply.started": "2022-04-07T22:47:39.812106Z"
    },
    "papermill": {
     "duration": 0.057258,
     "end_time": "2022-04-07T22:54:12.291778",
     "exception": false,
     "start_time": "2022-04-07T22:54:12.234520",
     "status": "completed"
    },
    "tags": []
   },
   "outputs": [
    {
     "data": {
      "application/javascript": [
       "parent.postMessage({\"jupyterEvent\": \"custom.exercise_interaction\", \"data\": {\"interactionType\": 2, \"questionType\": 4, \"questionId\": \"3.2_ArithmeticParensHard\", \"learnToolsVersion\": \"0.3.4\", \"valueTowardsCompletion\": 0.0, \"failureMessage\": \"\", \"exceptionClass\": \"\", \"trace\": \"\", \"outcomeType\": 4}}, \"*\")"
      ],
      "text/plain": [
       "<IPython.core.display.Javascript object>"
      ]
     },
     "metadata": {},
     "output_type": "display_data"
    },
    {
     "data": {
      "text/markdown": [
       "<span style=\"color:#3366cc\">Hint:</span> You may need to use several pairs of parentheses."
      ],
      "text/plain": [
       "Hint: You may need to use several pairs of parentheses."
      ]
     },
     "metadata": {},
     "output_type": "display_data"
    }
   ],
   "source": [
    "q3.b.hint()"
   ]
  },
  {
   "cell_type": "code",
   "execution_count": 20,
   "id": "ea7e7efa",
   "metadata": {
    "execution": {
     "iopub.execute_input": "2022-04-07T22:54:12.395061Z",
     "iopub.status.busy": "2022-04-07T22:54:12.394407Z",
     "iopub.status.idle": "2022-04-07T22:54:12.400090Z",
     "shell.execute_reply": "2022-04-07T22:54:12.400591Z",
     "shell.execute_reply.started": "2022-04-07T22:47:48.356746Z"
    },
    "papermill": {
     "duration": 0.059647,
     "end_time": "2022-04-07T22:54:12.400805",
     "exception": false,
     "start_time": "2022-04-07T22:54:12.341158",
     "status": "completed"
    },
    "tags": []
   },
   "outputs": [
    {
     "data": {
      "application/javascript": [
       "parent.postMessage({\"jupyterEvent\": \"custom.exercise_interaction\", \"data\": {\"interactionType\": 3, \"questionType\": 4, \"questionId\": \"3.2_ArithmeticParensHard\", \"learnToolsVersion\": \"0.3.4\", \"valueTowardsCompletion\": 0.0, \"failureMessage\": \"\", \"exceptionClass\": \"\", \"trace\": \"\", \"outcomeType\": 4}}, \"*\")"
      ],
      "text/plain": [
       "<IPython.core.display.Javascript object>"
      ]
     },
     "metadata": {},
     "output_type": "display_data"
    },
    {
     "data": {
      "text/markdown": [
       "<span style=\"color:#33cc99\">Solution:</span> `(8 - 3) * (2 - (1 + 1))` is one solution. There may be others."
      ],
      "text/plain": [
       "Solution: `(8 - 3) * (2 - (1 + 1))` is one solution. There may be others."
      ]
     },
     "metadata": {},
     "output_type": "display_data"
    }
   ],
   "source": [
    "# Check your answer (Run this code cell to receive credit!)\n",
    "q3.b.solution()"
   ]
  },
  {
   "cell_type": "markdown",
   "id": "c73c97b2",
   "metadata": {
    "papermill": {
     "duration": 0.050277,
     "end_time": "2022-04-07T22:54:12.502440",
     "exception": false,
     "start_time": "2022-04-07T22:54:12.452163",
     "status": "completed"
    },
    "tags": []
   },
   "source": [
    "<hr/>\n",
    "\n",
    "# 4. \n",
    "Alice, Bob and Carol have agreed to pool their Halloween candy and split it evenly among themselves.\n",
    "For the sake of their friendship, any candies left over will be smashed. For example, if they collectively\n",
    "bring home 91 candies, they'll take 30 each and smash 1.\n",
    "\n",
    "Write an arithmetic expression below to calculate how many candies they must smash for a given haul."
   ]
  },
  {
   "cell_type": "code",
   "execution_count": 21,
   "id": "0158f0b5",
   "metadata": {
    "execution": {
     "iopub.execute_input": "2022-04-07T22:54:12.606972Z",
     "iopub.status.busy": "2022-04-07T22:54:12.606325Z",
     "iopub.status.idle": "2022-04-07T22:54:12.613365Z",
     "shell.execute_reply": "2022-04-07T22:54:12.612866Z",
     "shell.execute_reply.started": "2022-04-07T22:52:11.138986Z"
    },
    "papermill": {
     "duration": 0.060347,
     "end_time": "2022-04-07T22:54:12.613493",
     "exception": false,
     "start_time": "2022-04-07T22:54:12.553146",
     "status": "completed"
    },
    "tags": []
   },
   "outputs": [
    {
     "data": {
      "application/javascript": [
       "parent.postMessage({\"jupyterEvent\": \"custom.exercise_interaction\", \"data\": {\"outcomeType\": 1, \"valueTowardsCompletion\": 0.25, \"interactionType\": 1, \"questionType\": 1, \"questionId\": \"4_CandySplitting\", \"learnToolsVersion\": \"0.3.4\", \"failureMessage\": \"\", \"exceptionClass\": \"\", \"trace\": \"\"}}, \"*\")"
      ],
      "text/plain": [
       "<IPython.core.display.Javascript object>"
      ]
     },
     "metadata": {},
     "output_type": "display_data"
    },
    {
     "data": {
      "text/markdown": [
       "<span style=\"color:#33cc33\">Correct</span>"
      ],
      "text/plain": [
       "Correct"
      ]
     },
     "metadata": {},
     "output_type": "display_data"
    }
   ],
   "source": [
    "# Variables representing the number of candies collected by alice, bob, and carol\n",
    "alice_candies = 121\n",
    "bob_candies = 77\n",
    "carol_candies = 109\n",
    "\n",
    "# Your code goes here! Replace the right-hand side of this assignment with an expression\n",
    "# involving alice_candies, bob_candies, and carol_candies\n",
    "to_smash =(alice_candies + bob_candies + carol_candies) % 3\n",
    "#to_smash = -1\n",
    "\n",
    "# Check your answer\n",
    "q4.check()"
   ]
  },
  {
   "cell_type": "code",
   "execution_count": 22,
   "id": "1d3a2b70",
   "metadata": {
    "execution": {
     "iopub.execute_input": "2022-04-07T22:54:12.722461Z",
     "iopub.status.busy": "2022-04-07T22:54:12.720749Z",
     "iopub.status.idle": "2022-04-07T22:54:12.729748Z",
     "shell.execute_reply": "2022-04-07T22:54:12.729230Z",
     "shell.execute_reply.started": "2022-04-07T22:52:30.542818Z"
    },
    "papermill": {
     "duration": 0.064061,
     "end_time": "2022-04-07T22:54:12.729882",
     "exception": false,
     "start_time": "2022-04-07T22:54:12.665821",
     "status": "completed"
    },
    "tags": []
   },
   "outputs": [
    {
     "data": {
      "application/javascript": [
       "parent.postMessage({\"jupyterEvent\": \"custom.exercise_interaction\", \"data\": {\"interactionType\": 2, \"questionType\": 1, \"questionId\": \"4_CandySplitting\", \"learnToolsVersion\": \"0.3.4\", \"valueTowardsCompletion\": 0.0, \"failureMessage\": \"\", \"exceptionClass\": \"\", \"trace\": \"\", \"outcomeType\": 4}}, \"*\")"
      ],
      "text/plain": [
       "<IPython.core.display.Javascript object>"
      ]
     },
     "metadata": {},
     "output_type": "display_data"
    },
    {
     "data": {
      "text/markdown": [
       "<span style=\"color:#3366cc\">Hint 1:</span> You'll probably want to use the modulo operator, `%`.\n",
       "(For another hint, call `.hint(2)`)"
      ],
      "text/plain": [
       "Hint 1: You'll probably want to use the modulo operator, `%`.\n",
       "(For another hint, call `.hint(2)`)"
      ]
     },
     "metadata": {},
     "output_type": "display_data"
    },
    {
     "data": {
      "application/javascript": [
       "parent.postMessage({\"jupyterEvent\": \"custom.exercise_interaction\", \"data\": {\"interactionType\": 3, \"questionType\": 1, \"questionId\": \"4_CandySplitting\", \"learnToolsVersion\": \"0.3.4\", \"valueTowardsCompletion\": 0.0, \"failureMessage\": \"\", \"exceptionClass\": \"\", \"trace\": \"\", \"outcomeType\": 4}}, \"*\")"
      ],
      "text/plain": [
       "<IPython.core.display.Javascript object>"
      ]
     },
     "metadata": {},
     "output_type": "display_data"
    },
    {
     "data": {
      "text/markdown": [
       "<span style=\"color:#33cc99\">Solution:</span> \n",
       "```python\n",
       "(alice_candies + bob_candies + carol_candies) % 3\n",
       "```"
      ],
      "text/plain": [
       "Solution: \n",
       "```python\n",
       "(alice_candies + bob_candies + carol_candies) % 3\n",
       "```"
      ]
     },
     "metadata": {},
     "output_type": "display_data"
    }
   ],
   "source": [
    "q4.hint()\n",
    "q4.solution()"
   ]
  },
  {
   "cell_type": "markdown",
   "id": "47cfeb17",
   "metadata": {
    "papermill": {
     "duration": 0.055211,
     "end_time": "2022-04-07T22:54:12.839400",
     "exception": false,
     "start_time": "2022-04-07T22:54:12.784189",
     "status": "completed"
    },
    "tags": []
   },
   "source": [
    "# Keep Going\n",
    "\n",
    "Next up, you'll **[learn to write new functions and understand functions others write](https://www.kaggle.com/colinmorris/functions-and-getting-help)**. This will make you at least 10 times more productive as a Python programmer. "
   ]
  },
  {
   "cell_type": "markdown",
   "id": "464b82e3",
   "metadata": {
    "papermill": {
     "duration": 0.05398,
     "end_time": "2022-04-07T22:54:12.947808",
     "exception": false,
     "start_time": "2022-04-07T22:54:12.893828",
     "status": "completed"
    },
    "tags": []
   },
   "source": [
    "---\n",
    "\n",
    "\n",
    "\n",
    "\n",
    "*Have questions or comments? Visit the [Learn Discussion forum](https://www.kaggle.com/learn-forum/161283) to chat with other Learners.*"
   ]
  }
 ],
 "metadata": {
  "kernelspec": {
   "display_name": "Python 3",
   "language": "python",
   "name": "python3"
  },
  "language_info": {
   "codemirror_mode": {
    "name": "ipython",
    "version": 3
   },
   "file_extension": ".py",
   "mimetype": "text/x-python",
   "name": "python",
   "nbconvert_exporter": "python",
   "pygments_lexer": "ipython3",
   "version": "3.7.12"
  },
  "papermill": {
   "default_parameters": {},
   "duration": 13.361954,
   "end_time": "2022-04-07T22:54:13.613148",
   "environment_variables": {},
   "exception": null,
   "input_path": "__notebook__.ipynb",
   "output_path": "__notebook__.ipynb",
   "parameters": {},
   "start_time": "2022-04-07T22:54:00.251194",
   "version": "2.3.3"
  }
 },
 "nbformat": 4,
 "nbformat_minor": 5
}
